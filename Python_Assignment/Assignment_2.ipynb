{
 "cells": [
  {
   "cell_type": "markdown",
   "id": "cb276500",
   "metadata": {},
   "source": [
    "### Python Assignment 2"
   ]
  },
  {
   "cell_type": "markdown",
   "id": "8add939c",
   "metadata": {},
   "source": [
    "##### 1.What are the two values of the Boolean data type? How do you write them?"
   ]
  },
  {
   "cell_type": "markdown",
   "id": "ede853af",
   "metadata": {},
   "source": [
    "The two values are:\n",
    "- True \n",
    "- False"
   ]
  },
  {
   "cell_type": "code",
   "execution_count": 1,
   "id": "62937604",
   "metadata": {},
   "outputs": [
    {
     "data": {
      "text/plain": [
       "bool"
      ]
     },
     "execution_count": 1,
     "metadata": {},
     "output_type": "execute_result"
    }
   ],
   "source": [
    "type(True)"
   ]
  },
  {
   "cell_type": "code",
   "execution_count": 2,
   "id": "00b2afd7",
   "metadata": {},
   "outputs": [
    {
     "data": {
      "text/plain": [
       "True"
      ]
     },
     "execution_count": 2,
     "metadata": {},
     "output_type": "execute_result"
    }
   ],
   "source": [
    "# True take value 1\n",
    "True ==1"
   ]
  },
  {
   "cell_type": "code",
   "execution_count": 3,
   "id": "599e26a6",
   "metadata": {},
   "outputs": [
    {
     "data": {
      "text/plain": [
       "bool"
      ]
     },
     "execution_count": 3,
     "metadata": {},
     "output_type": "execute_result"
    }
   ],
   "source": [
    "type(False)"
   ]
  },
  {
   "cell_type": "code",
   "execution_count": 4,
   "id": "5e502dc4",
   "metadata": {},
   "outputs": [
    {
     "data": {
      "text/plain": [
       "True"
      ]
     },
     "execution_count": 4,
     "metadata": {},
     "output_type": "execute_result"
    }
   ],
   "source": [
    "# False take value 0\n",
    "False==0"
   ]
  },
  {
   "cell_type": "markdown",
   "id": "d7c88cdd",
   "metadata": {},
   "source": [
    "##### 2. What are the three different types of Boolen operators?"
   ]
  },
  {
   "cell_type": "markdown",
   "id": "7e08b998",
   "metadata": {},
   "source": [
    "AND, NOT , OR"
   ]
  },
  {
   "cell_type": "markdown",
   "id": "9ea5c9fb",
   "metadata": {},
   "source": [
    "###### 3. Make a list of each Boolena operator's truth tables (i.e. every possible combination of Boolean values for the operator and what it evaluate)"
   ]
  },
  {
   "cell_type": "markdown",
   "id": "03115f4f",
   "metadata": {},
   "source": [
    "True and True = True <br>\n",
    "True and False = False  <br>\n",
    "False and True = False  <br>\n",
    "False and False = False"
   ]
  },
  {
   "cell_type": "markdown",
   "id": "fa205840",
   "metadata": {},
   "source": [
    "True or True = True <br>\n",
    "True or False = True <br>\n",
    "False or True = True <br>\n",
    "False or False = False"
   ]
  },
  {
   "cell_type": "markdown",
   "id": "eadfc797",
   "metadata": {},
   "source": [
    "not(True) = False <br>\n",
    "not(False) = True"
   ]
  },
  {
   "cell_type": "markdown",
   "id": "523ccfe8",
   "metadata": {},
   "source": [
    "##### 4. What are the values of the following expressions?"
   ]
  },
  {
   "cell_type": "code",
   "execution_count": 5,
   "id": "5ed7582c",
   "metadata": {},
   "outputs": [
    {
     "data": {
      "text/plain": [
       "False"
      ]
     },
     "execution_count": 5,
     "metadata": {},
     "output_type": "execute_result"
    }
   ],
   "source": [
    "(5>4) and (3==5)"
   ]
  },
  {
   "cell_type": "code",
   "execution_count": 6,
   "id": "2bc985c6",
   "metadata": {},
   "outputs": [
    {
     "data": {
      "text/plain": [
       "False"
      ]
     },
     "execution_count": 6,
     "metadata": {},
     "output_type": "execute_result"
    }
   ],
   "source": [
    "not(5>4)"
   ]
  },
  {
   "cell_type": "code",
   "execution_count": 7,
   "id": "d4c48c57",
   "metadata": {},
   "outputs": [
    {
     "data": {
      "text/plain": [
       "True"
      ]
     },
     "execution_count": 7,
     "metadata": {},
     "output_type": "execute_result"
    }
   ],
   "source": [
    "(5>4) or (3==5)"
   ]
  },
  {
   "cell_type": "code",
   "execution_count": 8,
   "id": "49ae8c58",
   "metadata": {},
   "outputs": [
    {
     "data": {
      "text/plain": [
       "True"
      ]
     },
     "execution_count": 8,
     "metadata": {},
     "output_type": "execute_result"
    }
   ],
   "source": [
    "not((5>4) and (3==5))"
   ]
  },
  {
   "cell_type": "code",
   "execution_count": 9,
   "id": "eb194bb8",
   "metadata": {},
   "outputs": [
    {
     "data": {
      "text/plain": [
       "False"
      ]
     },
     "execution_count": 9,
     "metadata": {},
     "output_type": "execute_result"
    }
   ],
   "source": [
    "(True and True) and (True==False)"
   ]
  },
  {
   "cell_type": "code",
   "execution_count": 10,
   "id": "a59b1e57",
   "metadata": {},
   "outputs": [
    {
     "data": {
      "text/plain": [
       "True"
      ]
     },
     "execution_count": 10,
     "metadata": {},
     "output_type": "execute_result"
    }
   ],
   "source": [
    "(not False) or (not True)"
   ]
  },
  {
   "cell_type": "markdown",
   "id": "ac167b0c",
   "metadata": {},
   "source": [
    "##### 5. What are the six comparison operators?"
   ]
  },
  {
   "cell_type": "markdown",
   "id": "c977dd01",
   "metadata": {},
   "source": [
    "They include Less than(<), Greater than(>), Less than or equal to(<=), Greater than or equal to(>=), Equal to(==) and Not equal to (!=)."
   ]
  },
  {
   "cell_type": "markdown",
   "id": "12963c96",
   "metadata": {},
   "source": [
    "##### 6. How do you the the difference between the equal to and assignment operators? Describe a condition and when you would use one."
   ]
  },
  {
   "cell_type": "markdown",
   "id": "fb068277",
   "metadata": {},
   "source": [
    "The “=” is an **assignment operator** is used to assign the value on the right to the variable on the left."
   ]
  },
  {
   "cell_type": "code",
   "execution_count": 11,
   "id": "412b372c",
   "metadata": {},
   "outputs": [],
   "source": [
    "a = 10"
   ]
  },
  {
   "cell_type": "markdown",
   "id": "1dee8d36",
   "metadata": {},
   "source": [
    "value of a is 10"
   ]
  },
  {
   "cell_type": "markdown",
   "id": "93dbd338",
   "metadata": {},
   "source": [
    "The ‘==’ operator checks whether the two given operands are equal or not. If so, it returns true. Otherwise it returns false. It is an **relational or comparison operator**.\n"
   ]
  },
  {
   "cell_type": "code",
   "execution_count": 13,
   "id": "583f775f",
   "metadata": {},
   "outputs": [
    {
     "data": {
      "text/plain": [
       "True"
      ]
     },
     "execution_count": 13,
     "metadata": {},
     "output_type": "execute_result"
    }
   ],
   "source": [
    "7 == 7"
   ]
  },
  {
   "cell_type": "markdown",
   "id": "b125e22f",
   "metadata": {},
   "source": [
    "##### 7. Identify the three blocks in this code:"
   ]
  },
  {
   "cell_type": "code",
   "execution_count": 14,
   "id": "d2ad3607",
   "metadata": {},
   "outputs": [
    {
     "name": "stdout",
     "output_type": "stream",
     "text": [
      "ham\n",
      "spam\n",
      "spam\n"
     ]
    }
   ],
   "source": [
    "spam= 0\n",
    "if spam ==10:\n",
    "    print('eggs')\n",
    "if spam >5:\n",
    "    print('bacon')\n",
    "else:\n",
    "    print('ham')\n",
    "    print('spam')\n",
    "    print('spam')"
   ]
  },
  {
   "cell_type": "markdown",
   "id": "c8a4171e",
   "metadata": {},
   "source": [
    "The the blocks are the 2 if and else statements"
   ]
  },
  {
   "cell_type": "code",
   "execution_count": 15,
   "id": "c18bcd53",
   "metadata": {},
   "outputs": [],
   "source": [
    "# first block\n",
    "if spam ==10:\n",
    "    print('eggs')"
   ]
  },
  {
   "cell_type": "code",
   "execution_count": 16,
   "id": "3adb74c2",
   "metadata": {},
   "outputs": [],
   "source": [
    "# second block\n",
    "if spam >5:\n",
    "    print('bacon')"
   ]
  },
  {
   "cell_type": "code",
   "execution_count": null,
   "id": "dfed2f32",
   "metadata": {},
   "outputs": [],
   "source": [
    "# third block\n",
    "else:\n",
    "    print('ham')\n",
    "    print('spam')\n",
    "    print('spam')"
   ]
  },
  {
   "cell_type": "markdown",
   "id": "3b9eeed0",
   "metadata": {},
   "source": [
    "##### 8. Write code that prints Hello if 1 is stored in spam, print Howdy if 2 is stored in spam and print Greetinf! if anything else is stored in spam."
   ]
  },
  {
   "cell_type": "code",
   "execution_count": 23,
   "id": "300b7044",
   "metadata": {},
   "outputs": [
    {
     "name": "stdout",
     "output_type": "stream",
     "text": [
      "Please insert a number: 2\n",
      "Howdy\n"
     ]
    }
   ],
   "source": [
    "spam = int(input(\"Please insert a number: \"))\n",
    "if spam == 1:\n",
    "    print('Hello')\n",
    "elif spam == 2:\n",
    "    print('Howdy')\n",
    "else:\n",
    "    print('Greetings!')"
   ]
  }
 ],
 "metadata": {
  "kernelspec": {
   "display_name": "Python 3 (ipykernel)",
   "language": "python",
   "name": "python3"
  },
  "language_info": {
   "codemirror_mode": {
    "name": "ipython",
    "version": 3
   },
   "file_extension": ".py",
   "mimetype": "text/x-python",
   "name": "python",
   "nbconvert_exporter": "python",
   "pygments_lexer": "ipython3",
   "version": "3.8.12"
  }
 },
 "nbformat": 4,
 "nbformat_minor": 5
}
