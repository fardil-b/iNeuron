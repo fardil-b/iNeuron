{
 "cells": [
  {
   "cell_type": "markdown",
   "id": "41f0f610",
   "metadata": {},
   "source": [
    "### Python Assignment 1"
   ]
  },
  {
   "cell_type": "markdown",
   "id": "d0e910be",
   "metadata": {},
   "source": [
    "##### 1. In the below elements which of them are values or an expression? e.g:- values can be integer or string and expressions will be mathematical operators.\n",
    "\n",
    "- *\n",
    "- 'hello'\n",
    "- -87.8\n",
    "- /\n",
    "-  +\n",
    "- 6"
   ]
  },
  {
   "cell_type": "markdown",
   "id": "a648c964",
   "metadata": {},
   "source": [
    "**Expressions :** *, /, +"
   ]
  },
  {
   "cell_type": "markdown",
   "id": "388c1fa2",
   "metadata": {},
   "source": [
    "**Values**\n",
    "- integer: -87.8, 6\n",
    "- string : 'hello'"
   ]
  },
  {
   "cell_type": "markdown",
   "id": "8aa99111",
   "metadata": {},
   "source": [
    "##### 2. What is the difference between string and variable?\n"
   ]
  },
  {
   "cell_type": "markdown",
   "id": "0897241f",
   "metadata": {},
   "source": [
    "A Variable is a store of information, and a String is a type of information you would store in a Variable. A String is usually words, enclosed with \"\""
   ]
  },
  {
   "cell_type": "code",
   "execution_count": 2,
   "id": "26443fa7",
   "metadata": {},
   "outputs": [],
   "source": [
    "# example\n",
    "s = \"This is a string\""
   ]
  },
  {
   "cell_type": "markdown",
   "id": "c9f79da7",
   "metadata": {},
   "source": [
    "here s is the varibale and the string \"This is a string\" is assigned to the varibale s"
   ]
  },
  {
   "cell_type": "markdown",
   "id": "20751948",
   "metadata": {},
   "source": [
    "##### 3. Describe the three data types\n"
   ]
  },
  {
   "cell_type": "markdown",
   "id": "b103ee57",
   "metadata": {},
   "source": [
    "- float, string, integer, complex number, boolean"
   ]
  },
  {
   "cell_type": "markdown",
   "id": "50dcdda9",
   "metadata": {},
   "source": [
    "##### 4. What is an expression made up of? What do all expressions do ?"
   ]
  },
  {
   "cell_type": "markdown",
   "id": "b1642aa6",
   "metadata": {},
   "source": [
    "An Expression is a sequence or combination of values, variables, operators and function calls that always produces or returns a result value."
   ]
  },
  {
   "cell_type": "markdown",
   "id": "4ebc18eb",
   "metadata": {},
   "source": [
    "#####  5. This assignment statements, like spam = 10. What is the difference between an expression and a statement?"
   ]
  },
  {
   "cell_type": "markdown",
   "id": "0472a8cb",
   "metadata": {},
   "source": [
    "Spam = 10\n",
    "- spam is a variable and 10 is a value\n",
    "- Spam = 10 is an expression\n",
    "- A Statement is the smallest executable unit of code that has an effect, like creating a variable or displaying a value.\n",
    "- The first line is an assignment statement that gives a value to Spam.\n",
    "- When you type a statement then the interpreter executes it, which means that it does whatever the statement says.\n"
   ]
  },
  {
   "cell_type": "markdown",
   "id": "d0b51618",
   "metadata": {},
   "source": [
    "##### 6. After running the following code, what does the variable bacon contain ?"
   ]
  },
  {
   "cell_type": "code",
   "execution_count": 3,
   "id": "6895281a",
   "metadata": {},
   "outputs": [
    {
     "data": {
      "text/plain": [
       "23"
      ]
     },
     "execution_count": 3,
     "metadata": {},
     "output_type": "execute_result"
    }
   ],
   "source": [
    "bacon = 22\n",
    "bacon +1"
   ]
  },
  {
   "cell_type": "markdown",
   "id": "c8942a44",
   "metadata": {},
   "source": [
    "##### 7.What should the values of the following two terms be?"
   ]
  },
  {
   "cell_type": "code",
   "execution_count": 11,
   "id": "f671e22a",
   "metadata": {},
   "outputs": [
    {
     "data": {
      "text/plain": [
       "'spamspamspam'"
      ]
     },
     "execution_count": 11,
     "metadata": {},
     "output_type": "execute_result"
    }
   ],
   "source": [
    "'spam' + 'spamspam'"
   ]
  },
  {
   "cell_type": "code",
   "execution_count": 12,
   "id": "5d25990e",
   "metadata": {},
   "outputs": [
    {
     "data": {
      "text/plain": [
       "'spamspamspam'"
      ]
     },
     "execution_count": 12,
     "metadata": {},
     "output_type": "execute_result"
    }
   ],
   "source": [
    "'spam'*3"
   ]
  },
  {
   "cell_type": "markdown",
   "id": "3d8dd51d",
   "metadata": {},
   "source": [
    "##### 8.Why is eggs a valid varibale name while 100 is invalid?"
   ]
  },
  {
   "cell_type": "markdown",
   "id": "3f3796a5",
   "metadata": {},
   "source": [
    "variable names are permitted to contain letters, numbers, and underscores but a variable cannot start with a number. eggs is valid as it starts with a letters whereas 100 start with a number thus invalid varibale name."
   ]
  },
  {
   "cell_type": "markdown",
   "id": "fdd3ce7a",
   "metadata": {},
   "source": [
    "##### 9. What three functions can be used to get the integer, floating-point number, or string version of a value?"
   ]
  },
  {
   "cell_type": "markdown",
   "id": "7ccb02af",
   "metadata": {},
   "source": [
    "int() - to get integer\n",
    "float() - to get floating-point number\n",
    "str() - to get string version"
   ]
  },
  {
   "cell_type": "markdown",
   "id": "cc9e09cc",
   "metadata": {},
   "source": [
    "##### 10. Why does this expression cause an error? How can you fix it ?\n",
    "- 'I have eaten'+ 99+'burritos.'"
   ]
  },
  {
   "cell_type": "code",
   "execution_count": 9,
   "id": "7aa9f5d2",
   "metadata": {},
   "outputs": [
    {
     "data": {
      "text/plain": [
       "'I have eaten 99 burritos.'"
      ]
     },
     "execution_count": 9,
     "metadata": {},
     "output_type": "execute_result"
    }
   ],
   "source": [
    "'I have eaten '+ '99' +' burritos.'"
   ]
  },
  {
   "cell_type": "code",
   "execution_count": null,
   "id": "514bb1c3",
   "metadata": {},
   "outputs": [],
   "source": [
    "convert the 99 from integer to string by adding ''"
   ]
  }
 ],
 "metadata": {
  "kernelspec": {
   "display_name": "Python 3 (ipykernel)",
   "language": "python",
   "name": "python3"
  },
  "language_info": {
   "codemirror_mode": {
    "name": "ipython",
    "version": 3
   },
   "file_extension": ".py",
   "mimetype": "text/x-python",
   "name": "python",
   "nbconvert_exporter": "python",
   "pygments_lexer": "ipython3",
   "version": "3.8.12"
  }
 },
 "nbformat": 4,
 "nbformat_minor": 5
}
