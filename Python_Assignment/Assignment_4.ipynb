{
 "cells": [
  {
   "cell_type": "markdown",
   "id": "8577a6e5",
   "metadata": {},
   "source": [
    "### Python Assignment 4"
   ]
  },
  {
   "cell_type": "markdown",
   "id": "dbb7aea9",
   "metadata": {},
   "source": [
    "##### 1. What exactly is [ ]?"
   ]
  },
  {
   "cell_type": "markdown",
   "id": "1bbc4764",
   "metadata": {},
   "source": [
    "It is an empty list"
   ]
  },
  {
   "cell_type": "markdown",
   "id": "9f646ad5",
   "metadata": {},
   "source": [
    "##### 2. In a list of values stored in a varibale called spam, how would you asign the value 'hello' as the third value? (Assume [2, 4, 6, 8, 10] are in spam)"
   ]
  },
  {
   "cell_type": "code",
   "execution_count": 1,
   "id": "eb48a514",
   "metadata": {},
   "outputs": [],
   "source": [
    "spam =  [2, 4, 6, 8, 10]"
   ]
  },
  {
   "cell_type": "code",
   "execution_count": 3,
   "id": "ee5e834b",
   "metadata": {},
   "outputs": [],
   "source": [
    "spam[2] = 'hello'"
   ]
  },
  {
   "cell_type": "code",
   "execution_count": 4,
   "id": "79fd85f2",
   "metadata": {},
   "outputs": [
    {
     "data": {
      "text/plain": [
       "[2, 4, 'hello', 8, 10]"
      ]
     },
     "execution_count": 4,
     "metadata": {},
     "output_type": "execute_result"
    }
   ],
   "source": [
    "spam"
   ]
  },
  {
   "cell_type": "markdown",
   "id": "71e5c578",
   "metadata": {},
   "source": [
    "##### 3. What is the value of spam[int(int('3' * 2)/11)]"
   ]
  },
  {
   "cell_type": "code",
   "execution_count": 8,
   "id": "cde89691",
   "metadata": {},
   "outputs": [
    {
     "data": {
      "text/plain": [
       "'33'"
      ]
     },
     "execution_count": 8,
     "metadata": {},
     "output_type": "execute_result"
    }
   ],
   "source": [
    "'3'*2"
   ]
  },
  {
   "cell_type": "code",
   "execution_count": 9,
   "id": "e2e8f2c8",
   "metadata": {},
   "outputs": [
    {
     "data": {
      "text/plain": [
       "33"
      ]
     },
     "execution_count": 9,
     "metadata": {},
     "output_type": "execute_result"
    }
   ],
   "source": [
    "int('3'*2)"
   ]
  },
  {
   "cell_type": "code",
   "execution_count": 10,
   "id": "cd8ee08d",
   "metadata": {},
   "outputs": [
    {
     "data": {
      "text/plain": [
       "8"
      ]
     },
     "execution_count": 10,
     "metadata": {},
     "output_type": "execute_result"
    }
   ],
   "source": [
    "spam[3]"
   ]
  },
  {
   "cell_type": "code",
   "execution_count": 7,
   "id": "71d566b2",
   "metadata": {},
   "outputs": [
    {
     "data": {
      "text/plain": [
       "8"
      ]
     },
     "execution_count": 7,
     "metadata": {},
     "output_type": "execute_result"
    }
   ],
   "source": [
    "spam[int(int('3' * 2)/11)]"
   ]
  },
  {
   "cell_type": "markdown",
   "id": "1ab3aa89",
   "metadata": {},
   "source": [
    "##### 4. What is the value of spam[-1]"
   ]
  },
  {
   "cell_type": "code",
   "execution_count": 11,
   "id": "7b4af748",
   "metadata": {},
   "outputs": [
    {
     "data": {
      "text/plain": [
       "10"
      ]
     },
     "execution_count": 11,
     "metadata": {},
     "output_type": "execute_result"
    }
   ],
   "source": [
    "spam[-1]"
   ]
  },
  {
   "cell_type": "markdown",
   "id": "002e6f5d",
   "metadata": {},
   "source": [
    "##### 5. What is the value of spam[:2]"
   ]
  },
  {
   "cell_type": "code",
   "execution_count": 12,
   "id": "a5b557e4",
   "metadata": {},
   "outputs": [
    {
     "data": {
      "text/plain": [
       "[2, 4]"
      ]
     },
     "execution_count": 12,
     "metadata": {},
     "output_type": "execute_result"
    }
   ],
   "source": [
    "spam[:2]"
   ]
  },
  {
   "cell_type": "code",
   "execution_count": 14,
   "id": "cd6e5d52",
   "metadata": {},
   "outputs": [],
   "source": [
    "bacon = [3.14, 'cat', 11, 'cat', True]"
   ]
  },
  {
   "cell_type": "markdown",
   "id": "87c79124",
   "metadata": {},
   "source": [
    "##### 6. What is the value of bacon.index('cat')?"
   ]
  },
  {
   "cell_type": "code",
   "execution_count": 15,
   "id": "5c2caacf",
   "metadata": {},
   "outputs": [
    {
     "data": {
      "text/plain": [
       "1"
      ]
     },
     "execution_count": 15,
     "metadata": {},
     "output_type": "execute_result"
    }
   ],
   "source": [
    "bacon.index('cat')"
   ]
  },
  {
   "cell_type": "markdown",
   "id": "5643e18f",
   "metadata": {},
   "source": [
    "##### 7. How does bacon.append(99) change the look of the list value in bacon?"
   ]
  },
  {
   "cell_type": "code",
   "execution_count": 16,
   "id": "a174c665",
   "metadata": {},
   "outputs": [],
   "source": [
    "bacon.append(99)"
   ]
  },
  {
   "cell_type": "code",
   "execution_count": 17,
   "id": "aa6fd77a",
   "metadata": {},
   "outputs": [
    {
     "data": {
      "text/plain": [
       "[3.14, 'cat', 11, 'cat', True, 99]"
      ]
     },
     "execution_count": 17,
     "metadata": {},
     "output_type": "execute_result"
    }
   ],
   "source": [
    "bacon"
   ]
  },
  {
   "cell_type": "markdown",
   "id": "f2b9fec4",
   "metadata": {},
   "source": [
    "##### 8. How does bacon.remove('cat') change the look of the list in bacon?"
   ]
  },
  {
   "cell_type": "code",
   "execution_count": 18,
   "id": "4b6287a8",
   "metadata": {},
   "outputs": [],
   "source": [
    "bacon.remove('cat')"
   ]
  },
  {
   "cell_type": "code",
   "execution_count": 19,
   "id": "156ba99a",
   "metadata": {},
   "outputs": [
    {
     "data": {
      "text/plain": [
       "[3.14, 11, 'cat', True, 99]"
      ]
     },
     "execution_count": 19,
     "metadata": {},
     "output_type": "execute_result"
    }
   ],
   "source": [
    "bacon"
   ]
  },
  {
   "cell_type": "markdown",
   "id": "9d13b806",
   "metadata": {},
   "source": [
    "##### 9. What are the list concatenation and list replication operators?"
   ]
  },
  {
   "cell_type": "markdown",
   "id": "e2f41e07",
   "metadata": {},
   "source": [
    "The operator for list concatenation is +, while the operator for replication is *.\n"
   ]
  },
  {
   "cell_type": "code",
   "execution_count": 25,
   "id": "83acdcd0",
   "metadata": {},
   "outputs": [],
   "source": [
    "# consider the 2 list a and b\n",
    "a = [1, 2, 3] \n",
    "b = [4, 5, 6] "
   ]
  },
  {
   "cell_type": "code",
   "execution_count": 26,
   "id": "21253a7d",
   "metadata": {},
   "outputs": [],
   "source": [
    "# If you need to concatenate them into a list, you could use the + operator. \n",
    "# This will create a new list c:\n",
    "c = a + b"
   ]
  },
  {
   "cell_type": "code",
   "execution_count": 27,
   "id": "8a6277dd",
   "metadata": {},
   "outputs": [
    {
     "data": {
      "text/plain": [
       "[1, 2, 3, 4, 5, 6]"
      ]
     },
     "execution_count": 27,
     "metadata": {},
     "output_type": "execute_result"
    }
   ],
   "source": [
    "c"
   ]
  },
  {
   "cell_type": "code",
   "execution_count": 29,
   "id": "e0a670f3",
   "metadata": {},
   "outputs": [
    {
     "data": {
      "text/plain": [
       "[1, 2, 3, 1, 2, 3, 1, 2, 3]"
      ]
     },
     "execution_count": 29,
     "metadata": {},
     "output_type": "execute_result"
    }
   ],
   "source": [
    "# if we want to replicate a list for 3 time then\n",
    "d = a * 3\n",
    "d"
   ]
  },
  {
   "cell_type": "markdown",
   "id": "ea37cd20",
   "metadata": {},
   "source": [
    "##### 10. What is the difference between the list methods append() and insert()?"
   ]
  },
  {
   "cell_type": "markdown",
   "id": "c152847c",
   "metadata": {},
   "source": [
    "The difference is that with append, you just add a new entry at the end of the list. With insert(position, new_entry) you can create a new entry exactly in the position you want."
   ]
  },
  {
   "cell_type": "markdown",
   "id": "333e048f",
   "metadata": {},
   "source": [
    "##### 11. What are the two methods for removing items from a list?"
   ]
  },
  {
   "cell_type": "markdown",
   "id": "13ca4803",
   "metadata": {},
   "source": [
    "The methods are remove(), pop() and clear()."
   ]
  },
  {
   "cell_type": "markdown",
   "id": "317add3f",
   "metadata": {},
   "source": [
    "##### 12. Describe how list values and strings values are identical."
   ]
  },
  {
   "cell_type": "markdown",
   "id": "7d5a7650",
   "metadata": {},
   "source": [
    "The similarity between Lists and Strings in Python is that both are sequences. \n",
    "The values that make up a list are called its elements. Lists are similar to strings, which are ordered collections of characters, except that the elements of a list can have any type and for any one list, the items can be of different types.\n",
    "\n",
    "\n",
    "\n",
    "The differences between them are that firstly, Lists are mutable but Strings are immutable. Secondly, elements of a list can be of different types whereas a String only contains characters that are all of String type."
   ]
  },
  {
   "cell_type": "markdown",
   "id": "8e934ed1",
   "metadata": {},
   "source": [
    "##### 13. What's the difference between tuples and lists?"
   ]
  },
  {
   "cell_type": "markdown",
   "id": "c282b49b",
   "metadata": {},
   "source": [
    " list is mutable, whereas a tuple is immutable. This means that lists can be changed, and tuples cannot be changed. So, some operations can work on lists, but not on tuples"
   ]
  },
  {
   "cell_type": "markdown",
   "id": "8a8cf663",
   "metadata": {},
   "source": [
    "##### 14. How do you type a tuple value that only contains the integer 42?"
   ]
  },
  {
   "cell_type": "code",
   "execution_count": 30,
   "id": "03e4743d",
   "metadata": {},
   "outputs": [],
   "source": [
    "tuple_data = (42)"
   ]
  },
  {
   "cell_type": "markdown",
   "id": "137151c6",
   "metadata": {},
   "source": [
    "##### 15. How do you get a list value's tuple form? How do you get a tuple value's list from ?"
   ]
  },
  {
   "cell_type": "markdown",
   "id": "2536b533",
   "metadata": {},
   "source": [
    "- Python zip() function can be used to map the lists altogether to create a list of tuples \n",
    "- Python map function can be used to create a list of tuples. The map() function maps and applies a function to an iterable passed to the function.\n",
    "- Python tuple() method along with List Comprehension can be used to form a list of tuples.The tuple() function helps to create tuples from the set of elements passed to it."
   ]
  },
  {
   "cell_type": "markdown",
   "id": "869ecaf1",
   "metadata": {},
   "source": [
    "##### 16. Variables that \"contain\" list values are not necessarily lists thmeselves. Instead, what do they contain?"
   ]
  },
  {
   "cell_type": "markdown",
   "id": "87a640c0",
   "metadata": {},
   "source": [
    "Variables will contain references to list values rather than list values themselves"
   ]
  },
  {
   "cell_type": "markdown",
   "id": "5895161b",
   "metadata": {},
   "source": [
    "##### 17. How do you distinguish between copy.copy() and copy.deepcopy()?\n"
   ]
  },
  {
   "cell_type": "markdown",
   "id": "0ef085ae",
   "metadata": {},
   "source": [
    "copy.copy(x) - Return a shallow copy of x.\n",
    "- A shallow copy creates a new object which stores the reference of the original elements"
   ]
  },
  {
   "cell_type": "markdown",
   "id": "3b9ee4fb",
   "metadata": {},
   "source": [
    "copy.deepcopy(x) - Return a deep copy of x.\n",
    "- A deep copy creates a new object and recursively adds the copies of nested objects present in the original elements."
   ]
  },
  {
   "cell_type": "markdown",
   "id": "3b5a8d58",
   "metadata": {},
   "source": [
    "- A shallow copy means constructing a new collection object and then populating it with references to the child objects found in the original. In essence, a shallow copy is only one level deep. The copying process does not recurse and therefore won’t create copies of the child objects themselves.\n",
    "\n",
    "- A deep copy makes the copying process recursive. It means first constructing a new collection object and then recursively populating it with copies of the child objects found in the original. Copying an object this way walks the whole object tree to create a fully independent clone of the original object and all of its children."
   ]
  }
 ],
 "metadata": {
  "kernelspec": {
   "display_name": "Python 3 (ipykernel)",
   "language": "python",
   "name": "python3"
  },
  "language_info": {
   "codemirror_mode": {
    "name": "ipython",
    "version": 3
   },
   "file_extension": ".py",
   "mimetype": "text/x-python",
   "name": "python",
   "nbconvert_exporter": "python",
   "pygments_lexer": "ipython3",
   "version": "3.8.12"
  }
 },
 "nbformat": 4,
 "nbformat_minor": 5
}
