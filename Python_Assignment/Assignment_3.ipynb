{
 "cells": [
  {
   "cell_type": "markdown",
   "id": "d437fc27",
   "metadata": {},
   "source": [
    "### Python Assignment 3"
   ]
  },
  {
   "cell_type": "markdown",
   "id": "f4e8ee37",
   "metadata": {},
   "source": [
    "##### 1. Why are functions advantageous to have in your programs?"
   ]
  },
  {
   "cell_type": "markdown",
   "id": "1dfd9b8f",
   "metadata": {},
   "source": [
    "Functions reduce the need for duplicate code. This makes programs shorter, easier to read, and easier to update."
   ]
  },
  {
   "cell_type": "markdown",
   "id": "baabec7d",
   "metadata": {},
   "source": [
    "##### 2. When does the code in a function run: when it's specified or when it's called?"
   ]
  },
  {
   "cell_type": "markdown",
   "id": "401c3e4e",
   "metadata": {},
   "source": [
    "when it's called "
   ]
  },
  {
   "cell_type": "markdown",
   "id": "ff85bd96",
   "metadata": {},
   "source": [
    "Defining a function only gives it a name, specifies the parameters that are to be included in the function and structures the blocks of code.\n",
    "\n",
    "Once the basic structure of a function is finalized, you can execute it by calling it from another function or directly from the Python prompt. "
   ]
  },
  {
   "cell_type": "markdown",
   "id": "d794e76f",
   "metadata": {},
   "source": [
    "##### 3. What statement create a function?"
   ]
  },
  {
   "cell_type": "markdown",
   "id": "6ca3e639",
   "metadata": {},
   "source": [
    "The **def** keyword is a statement for defining a function in Python."
   ]
  },
  {
   "cell_type": "markdown",
   "id": "331f7a26",
   "metadata": {},
   "source": [
    "##### 4. What is the difference between a function and a function call?"
   ]
  },
  {
   "cell_type": "markdown",
   "id": "557983e2",
   "metadata": {},
   "source": [
    "A function call means invoking or calling that function. Unless a function is called there is no use of that function."
   ]
  },
  {
   "cell_type": "markdown",
   "id": "22e5ea82",
   "metadata": {},
   "source": [
    "##### 5. How many global scopes are there in a python program? how many local scopes?"
   ]
  },
  {
   "cell_type": "markdown",
   "id": "f0e95b66",
   "metadata": {},
   "source": [
    "Varibble created inside a fucntion, would be a local scope, depending how many fucntion whe have and how many variable we have within each function will determine how many local or glaobal scope we have"
   ]
  },
  {
   "cell_type": "code",
   "execution_count": 1,
   "id": "22de5c25",
   "metadata": {},
   "outputs": [],
   "source": [
    "def test1():\n",
    "    x = 1\n",
    "    print(\"value of local variable\", x)\n",
    "    "
   ]
  },
  {
   "cell_type": "code",
   "execution_count": 2,
   "id": "15058a33",
   "metadata": {},
   "outputs": [
    {
     "name": "stdout",
     "output_type": "stream",
     "text": [
      "value of local variable 1\n"
     ]
    }
   ],
   "source": [
    "test1()"
   ]
  },
  {
   "cell_type": "markdown",
   "id": "2c9beddd",
   "metadata": {},
   "source": [
    " x is defined within the function, so its scope lies within the function. It is accessible from the point at which it is defined until the end of the function and exists for as long as the function is executing"
   ]
  },
  {
   "cell_type": "code",
   "execution_count": 4,
   "id": "919dee3d",
   "metadata": {},
   "outputs": [
    {
     "ename": "NameError",
     "evalue": "name 'x' is not defined",
     "output_type": "error",
     "traceback": [
      "\u001b[1;31m---------------------------------------------------------------------------\u001b[0m",
      "\u001b[1;31mNameError\u001b[0m                                 Traceback (most recent call last)",
      "\u001b[1;32m~\\AppData\\Local\\Temp/ipykernel_9272/1353120783.py\u001b[0m in \u001b[0;36m<module>\u001b[1;34m\u001b[0m\n\u001b[1;32m----> 1\u001b[1;33m \u001b[0mprint\u001b[0m\u001b[1;33m(\u001b[0m\u001b[0mx\u001b[0m\u001b[1;33m)\u001b[0m\u001b[1;33m\u001b[0m\u001b[1;33m\u001b[0m\u001b[0m\n\u001b[0m",
      "\u001b[1;31mNameError\u001b[0m: name 'x' is not defined"
     ]
    }
   ],
   "source": [
    "print(x)"
   ]
  },
  {
   "cell_type": "markdown",
   "id": "d42fe171",
   "metadata": {},
   "source": [
    "when trying to access and then print the same variable from outside the function, it raised a NameError. This is because x is \"local\" to the function - thus, it cannot be reached from outside the function body."
   ]
  },
  {
   "cell_type": "markdown",
   "id": "304c8aa7",
   "metadata": {},
   "source": [
    "Whenever a variable is defined outside any function, it becomes a global variable, and its scope is anywhere within the program. Which means it can be used by any function."
   ]
  },
  {
   "cell_type": "markdown",
   "id": "9e07c0ba",
   "metadata": {},
   "source": [
    "##### 6. What happens to variables in a local scope when the function call retunrs?"
   ]
  },
  {
   "cell_type": "markdown",
   "id": "b3319548",
   "metadata": {},
   "source": [
    "when trying to access and then print the same variable from outside the function, it raised a NameError. This is because x is \"local\" to the function - thus, it cannot be reached from outside the function body."
   ]
  },
  {
   "cell_type": "markdown",
   "id": "b5c7134b",
   "metadata": {},
   "source": [
    "##### 7. what is the concept of a return value? Is it possible to have a return value in an expression?"
   ]
  },
  {
   "cell_type": "markdown",
   "id": "be4e48b1",
   "metadata": {},
   "source": [
    "A return statement is used to end the execution of the function call and “returns” the result (value of the expression following the return keyword) to the caller. The statements after the return statements are not executed. If the return statement is without any expression, then the special value None is returned."
   ]
  },
  {
   "cell_type": "markdown",
   "id": "2f80162f",
   "metadata": {},
   "source": [
    "##### 8. If a function does not have a return statement, what is the return value of a call to that function?"
   ]
  },
  {
   "cell_type": "markdown",
   "id": "311c7493",
   "metadata": {},
   "source": [
    "If a function doesn't specify a return value, it returns None."
   ]
  },
  {
   "cell_type": "markdown",
   "id": "93a59c6a",
   "metadata": {},
   "source": [
    "##### 9. How do you make a function variable refer to the global variable?"
   ]
  },
  {
   "cell_type": "markdown",
   "id": "265a92ab",
   "metadata": {},
   "source": [
    "If you want to refer to a global variable in a function, you can use the **global** keyword to declare which variables are global"
   ]
  },
  {
   "cell_type": "markdown",
   "id": "0f16d777",
   "metadata": {},
   "source": [
    "##### 10. What is the data type of None?"
   ]
  },
  {
   "cell_type": "code",
   "execution_count": 5,
   "id": "5d20d060",
   "metadata": {},
   "outputs": [
    {
     "data": {
      "text/plain": [
       "NoneType"
      ]
     },
     "execution_count": 5,
     "metadata": {},
     "output_type": "execute_result"
    }
   ],
   "source": [
    "type(None)"
   ]
  },
  {
   "cell_type": "markdown",
   "id": "8161c7cb",
   "metadata": {},
   "source": [
    "The None keyword is used to define a null value, or no value at all.\n",
    "\n",
    "None is not the same as 0, False, or an empty string. None is a data type of its own (NoneType) and only None can be None.\n",
    "\n"
   ]
  },
  {
   "cell_type": "markdown",
   "id": "a380f302",
   "metadata": {},
   "source": [
    "Assigning a value of None to a variable is one way to reset it to its original, empty state."
   ]
  },
  {
   "cell_type": "markdown",
   "id": "394dfdcc",
   "metadata": {},
   "source": [
    "##### 11. What does the sentence import areallyourpetsnamedric do?"
   ]
  },
  {
   "cell_type": "markdown",
   "id": "0269112e",
   "metadata": {},
   "source": [
    "we are importing the module areallyourpetsnamedric. Importing refers to allowing a Python file or a Python module to access the script from another Python file or module. You can only use functions and properties your program can access. For instance, importing areallyourpetsnamedric will allow us to use the function"
   ]
  },
  {
   "cell_type": "markdown",
   "id": "6d988edb",
   "metadata": {},
   "source": [
    "##### 12. If you had a bacon() feature in a spam module, what would you call it after importing spam?"
   ]
  },
  {
   "cell_type": "markdown",
   "id": "7d4278e7",
   "metadata": {},
   "source": [
    "The function can be called with spam.bacon()"
   ]
  },
  {
   "cell_type": "markdown",
   "id": "ac975652",
   "metadata": {},
   "source": [
    "##### 13. What can you do to save a programme from crashing if it encounters an error?"
   ]
  },
  {
   "cell_type": "markdown",
   "id": "4a1b6ce0",
   "metadata": {},
   "source": [
    "If an error occurs in a program, we don’t want the program to unexpectedly crash on the user. Instead, error handling can be used to notify the user of why the error occurred and gracefully exit the process that caused the error.\n",
    "\n",
    "- Exception handling using try - except and try - except - finally"
   ]
  },
  {
   "cell_type": "markdown",
   "id": "3e233f28",
   "metadata": {},
   "source": [
    "##### 14. What is the purpose of the try clause? What is the purpose of the except clause?"
   ]
  },
  {
   "cell_type": "markdown",
   "id": "bb97c0c0",
   "metadata": {},
   "source": [
    "The Python try…except statement runs the code under the “try” statement. If this code does not execute successfully, the program will stop at the line that caused the error and the “except” code will run.\n",
    "\n",
    "The try block allows you to test a block of code for errors. The except block enables you to handle the error with a user-defined response."
   ]
  },
  {
   "cell_type": "code",
   "execution_count": null,
   "id": "e36bc08b",
   "metadata": {},
   "outputs": [],
   "source": []
  }
 ],
 "metadata": {
  "kernelspec": {
   "display_name": "Python 3 (ipykernel)",
   "language": "python",
   "name": "python3"
  },
  "language_info": {
   "codemirror_mode": {
    "name": "ipython",
    "version": 3
   },
   "file_extension": ".py",
   "mimetype": "text/x-python",
   "name": "python",
   "nbconvert_exporter": "python",
   "pygments_lexer": "ipython3",
   "version": "3.8.12"
  }
 },
 "nbformat": 4,
 "nbformat_minor": 5
}
