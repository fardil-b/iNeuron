{
 "cells": [
  {
   "cell_type": "markdown",
   "id": "03db6e41",
   "metadata": {},
   "source": [
    "## Python Assignment 6"
   ]
  },
  {
   "cell_type": "markdown",
   "id": "060bdb27",
   "metadata": {},
   "source": [
    "### 1. What are escape characters, and how do you use them?"
   ]
  },
  {
   "cell_type": "markdown",
   "id": "2b5d6417",
   "metadata": {},
   "source": [
    "To insert characters that are illegal in a string, use an escape character. An escape character is a backslash \\ followed by the character you want to insert"
   ]
  },
  {
   "cell_type": "markdown",
   "id": "68c56254",
   "metadata": {},
   "source": [
    "### 2. What do the escape characters n  and t stand for ?"
   ]
  },
  {
   "cell_type": "markdown",
   "id": "1d96c046",
   "metadata": {},
   "source": [
    " n is new line and t is for tab"
   ]
  },
  {
   "cell_type": "markdown",
   "id": "94dbed95",
   "metadata": {},
   "source": [
    "### 3. What is the way to include backslash characters in a string?"
   ]
  },
  {
   "cell_type": "markdown",
   "id": "74c1bc09",
   "metadata": {},
   "source": [
    "- Use the syntax \"\\\\\" within the string literal to represent a single backslash.\n",
    "- Or use the syntax r\"\\\" to treat backslash (\\) as a literal character, and not as an escape character."
   ]
  },
  {
   "cell_type": "markdown",
   "id": "027eeac4",
   "metadata": {},
   "source": [
    "### 4. The string \" Howl's Moving Castle\" is a correct value. Why isn't the single quote character in the word Howl's not escaped a probelm?"
   ]
  },
  {
   "cell_type": "markdown",
   "id": "078b74ec",
   "metadata": {},
   "source": [
    "The single quote in Howl's is fine because we used double quotes to mark the beginning and end of the string."
   ]
  },
  {
   "cell_type": "markdown",
   "id": "9d54d741",
   "metadata": {},
   "source": [
    "### 5. How do you write a string of newlines if you don't want to use the n character?"
   ]
  },
  {
   "cell_type": "markdown",
   "id": "91b91222",
   "metadata": {},
   "source": [
    "we could use print(\"string\") for each of the string, this will be in a new line automatically"
   ]
  },
  {
   "cell_type": "code",
   "execution_count": 13,
   "id": "af505792",
   "metadata": {},
   "outputs": [
    {
     "name": "stdout",
     "output_type": "stream",
     "text": [
      "string1\n",
      "string2\n",
      "string3\n"
     ]
    }
   ],
   "source": [
    "# for example\n",
    "print(\"string1\")\n",
    "print(\"string2\")\n",
    "print(\"string3\")"
   ]
  },
  {
   "cell_type": "markdown",
   "id": "b8da6888",
   "metadata": {},
   "source": [
    "### 6. What are the values of the given expressions?"
   ]
  },
  {
   "cell_type": "code",
   "execution_count": 2,
   "id": "99558f40",
   "metadata": {},
   "outputs": [
    {
     "data": {
      "text/plain": [
       "'e'"
      ]
     },
     "execution_count": 2,
     "metadata": {},
     "output_type": "execute_result"
    }
   ],
   "source": [
    "'Hello, world!'[1]"
   ]
  },
  {
   "cell_type": "code",
   "execution_count": 3,
   "id": "a4a748cb",
   "metadata": {},
   "outputs": [
    {
     "data": {
      "text/plain": [
       "'Hello'"
      ]
     },
     "execution_count": 3,
     "metadata": {},
     "output_type": "execute_result"
    }
   ],
   "source": [
    "'Hello, world!'[0:5]"
   ]
  },
  {
   "cell_type": "code",
   "execution_count": 4,
   "id": "75f4a06d",
   "metadata": {},
   "outputs": [
    {
     "data": {
      "text/plain": [
       "'Hello'"
      ]
     },
     "execution_count": 4,
     "metadata": {},
     "output_type": "execute_result"
    }
   ],
   "source": [
    "'Hello, world!'[:5]"
   ]
  },
  {
   "cell_type": "code",
   "execution_count": 5,
   "id": "9cee003b",
   "metadata": {},
   "outputs": [
    {
     "data": {
      "text/plain": [
       "'lo, world!'"
      ]
     },
     "execution_count": 5,
     "metadata": {},
     "output_type": "execute_result"
    }
   ],
   "source": [
    "'Hello, world!'[3:]"
   ]
  },
  {
   "cell_type": "markdown",
   "id": "3657f8d9",
   "metadata": {},
   "source": [
    "### 7. What are the values of the following expressions?"
   ]
  },
  {
   "cell_type": "code",
   "execution_count": 6,
   "id": "fda16399",
   "metadata": {},
   "outputs": [
    {
     "data": {
      "text/plain": [
       "'HELLO'"
      ]
     },
     "execution_count": 6,
     "metadata": {},
     "output_type": "execute_result"
    }
   ],
   "source": [
    "'Hello'.upper()"
   ]
  },
  {
   "cell_type": "code",
   "execution_count": 7,
   "id": "029af0b4",
   "metadata": {},
   "outputs": [
    {
     "data": {
      "text/plain": [
       "True"
      ]
     },
     "execution_count": 7,
     "metadata": {},
     "output_type": "execute_result"
    }
   ],
   "source": [
    "'Hello'.upper().isupper()"
   ]
  },
  {
   "cell_type": "code",
   "execution_count": 8,
   "id": "c24e425f",
   "metadata": {},
   "outputs": [
    {
     "data": {
      "text/plain": [
       "'hello'"
      ]
     },
     "execution_count": 8,
     "metadata": {},
     "output_type": "execute_result"
    }
   ],
   "source": [
    "'Hello'.upper().lower()"
   ]
  },
  {
   "cell_type": "markdown",
   "id": "4c16e60d",
   "metadata": {},
   "source": [
    "### 8. What are the values of the follwoing expressions?"
   ]
  },
  {
   "cell_type": "code",
   "execution_count": 9,
   "id": "2872ca84",
   "metadata": {},
   "outputs": [
    {
     "data": {
      "text/plain": [
       "['Remember,', 'remeber,', 'the', 'fifth', 'of', 'July.']"
      ]
     },
     "execution_count": 9,
     "metadata": {},
     "output_type": "execute_result"
    }
   ],
   "source": [
    "'Remember, remeber, the fifth of July.'.split()"
   ]
  },
  {
   "cell_type": "code",
   "execution_count": 10,
   "id": "5fd756a4",
   "metadata": {},
   "outputs": [
    {
     "data": {
      "text/plain": [
       "'There-can-only-one.'"
      ]
     },
     "execution_count": 10,
     "metadata": {},
     "output_type": "execute_result"
    }
   ],
   "source": [
    "'-'.join('There can only one.'.split())"
   ]
  },
  {
   "cell_type": "markdown",
   "id": "67144af3",
   "metadata": {},
   "source": [
    "### 9. What are the methods for right-justifying, and centering a string?"
   ]
  },
  {
   "cell_type": "markdown",
   "id": "45055c02",
   "metadata": {},
   "source": [
    "- use **.rstrip()** for right_justifying\n",
    "- use **.center()** for centering a string"
   ]
  },
  {
   "cell_type": "markdown",
   "id": "0e422c93",
   "metadata": {},
   "source": [
    "### 10. What is the best way to remove whitespace characters from the start or end?"
   ]
  },
  {
   "cell_type": "markdown",
   "id": "a6571c02",
   "metadata": {},
   "source": [
    "use the **.strip** to remove whitespace characters"
   ]
  }
 ],
 "metadata": {
  "kernelspec": {
   "display_name": "Python 3 (ipykernel)",
   "language": "python",
   "name": "python3"
  },
  "language_info": {
   "codemirror_mode": {
    "name": "ipython",
    "version": 3
   },
   "file_extension": ".py",
   "mimetype": "text/x-python",
   "name": "python",
   "nbconvert_exporter": "python",
   "pygments_lexer": "ipython3",
   "version": "3.8.12"
  }
 },
 "nbformat": 4,
 "nbformat_minor": 5
}
